{
  "nbformat": 4,
  "nbformat_minor": 0,
  "metadata": {
    "colab": {
      "provenance": [],
      "authorship_tag": "ABX9TyMppheeH0Lac7CrQ8AUHvN/",
      "include_colab_link": true
    },
    "kernelspec": {
      "name": "python3",
      "display_name": "Python 3"
    },
    "language_info": {
      "name": "python"
    }
  },
  "cells": [
    {
      "cell_type": "markdown",
      "metadata": {
        "id": "view-in-github",
        "colab_type": "text"
      },
      "source": [
        "<a href=\"https://colab.research.google.com/github/Dheerajthummala/ASSIGNMENT-2_basic_stat_2/blob/main/ASSIGNMENT_2_(SET_4(Q3)).ipynb\" target=\"_parent\"><img src=\"https://colab.research.google.com/assets/colab-badge.svg\" alt=\"Open In Colab\"/></a>"
      ]
    },
    {
      "cell_type": "code",
      "execution_count": 1,
      "metadata": {
        "id": "p1r1LRIMMSdR"
      },
      "outputs": [],
      "source": [
        "import numpy as np\n",
        "from scipy import stats"
      ]
    },
    {
      "cell_type": "code",
      "source": [
        "#given that n=100, Population Mean=50, Population SD=40 As no. of samples is more than 30\n",
        "# for no investigation p(45<x<55)\n",
        "# for investigation 1-p(45<x<55)"
      ],
      "metadata": {
        "id": "eSHa_xZbMtOl"
      },
      "execution_count": 2,
      "outputs": []
    },
    {
      "cell_type": "code",
      "source": [
        "# zscore for x=45; z=(sample mean- population mean)/(sd)/sqrrt(n))\n",
        "z=(45-50)/(40/np.sqrt(100))"
      ],
      "metadata": {
        "id": "eS1Y0Fg1NXh2"
      },
      "execution_count": 5,
      "outputs": []
    },
    {
      "cell_type": "code",
      "source": [
        "z"
      ],
      "metadata": {
        "colab": {
          "base_uri": "https://localhost:8080/"
        },
        "id": "uhLY-shJOXeg",
        "outputId": "90c313df-c788-4c7a-c23b-c83e07bd20ab"
      },
      "execution_count": 6,
      "outputs": [
        {
          "output_type": "execute_result",
          "data": {
            "text/plain": [
              "-1.25"
            ]
          },
          "metadata": {},
          "execution_count": 6
        }
      ]
    },
    {
      "cell_type": "code",
      "source": [
        "# z score for x=55\n",
        "z=(55-50)/(40/np.sqrt(100))"
      ],
      "metadata": {
        "id": "reUT2vqGOYNf"
      },
      "execution_count": 7,
      "outputs": []
    },
    {
      "cell_type": "code",
      "source": [
        "z"
      ],
      "metadata": {
        "colab": {
          "base_uri": "https://localhost:8080/"
        },
        "id": "4ewwc2IBOiA-",
        "outputId": "3373bce5-a246-4f26-f53d-fdd91045a04b"
      },
      "execution_count": 8,
      "outputs": [
        {
          "output_type": "execute_result",
          "data": {
            "text/plain": [
              "1.25"
            ]
          },
          "metadata": {},
          "execution_count": 8
        }
      ]
    },
    {
      "cell_type": "code",
      "source": [
        "# for no investigation\n",
        "p=stats.norm.cdf(1.25)-stats.norm.cdf(-1.25)"
      ],
      "metadata": {
        "id": "doJNwLHPOi_5"
      },
      "execution_count": 12,
      "outputs": []
    },
    {
      "cell_type": "code",
      "source": [
        "p"
      ],
      "metadata": {
        "colab": {
          "base_uri": "https://localhost:8080/"
        },
        "id": "JDp-h82pPGKL",
        "outputId": "dfee1e36-e00b-4518-d26e-de62ad0b17d3"
      },
      "execution_count": 13,
      "outputs": [
        {
          "output_type": "execute_result",
          "data": {
            "text/plain": [
              "0.7887004526662893"
            ]
          },
          "metadata": {},
          "execution_count": 13
        }
      ]
    },
    {
      "cell_type": "code",
      "source": [
        "# for investigation\n",
        "invest=1-p"
      ],
      "metadata": {
        "id": "i0seB-slPHLS"
      },
      "execution_count": 14,
      "outputs": []
    },
    {
      "cell_type": "code",
      "source": [
        "invest"
      ],
      "metadata": {
        "colab": {
          "base_uri": "https://localhost:8080/"
        },
        "id": "wLs-LHcTPbRm",
        "outputId": "d541a6d4-d592-4c95-9448-06d9d646ff39"
      },
      "execution_count": 15,
      "outputs": [
        {
          "output_type": "execute_result",
          "data": {
            "text/plain": [
              "0.2112995473337107"
            ]
          },
          "metadata": {},
          "execution_count": 15
        }
      ]
    },
    {
      "cell_type": "code",
      "source": [
        "# D= 21.1%"
      ],
      "metadata": {
        "id": "tLNDX9MRPcXs"
      },
      "execution_count": null,
      "outputs": []
    }
  ]
}