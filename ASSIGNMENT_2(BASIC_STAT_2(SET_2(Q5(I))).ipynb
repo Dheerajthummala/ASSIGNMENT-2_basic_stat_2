{
  "nbformat": 4,
  "nbformat_minor": 0,
  "metadata": {
    "colab": {
      "provenance": [],
      "authorship_tag": "ABX9TyP25LUsu4WTSsFzX5bBgUYP",
      "include_colab_link": true
    },
    "kernelspec": {
      "name": "python3",
      "display_name": "Python 3"
    },
    "language_info": {
      "name": "python"
    }
  },
  "cells": [
    {
      "cell_type": "markdown",
      "metadata": {
        "id": "view-in-github",
        "colab_type": "text"
      },
      "source": [
        "<a href=\"https://colab.research.google.com/github/Dheerajthummala/ASSIGNMENT-2_basic_stat_2/blob/main/ASSIGNMENT_2(BASIC_STAT_2(SET_2(Q5(I))).ipynb\" target=\"_parent\"><img src=\"https://colab.research.google.com/assets/colab-badge.svg\" alt=\"Open In Colab\"/></a>"
      ]
    },
    {
      "cell_type": "code",
      "execution_count": 1,
      "metadata": {
        "id": "pwbCw-nE8GOB"
      },
      "outputs": [],
      "source": [
        "import numpy as np\n",
        "from scipy import stats\n",
        "from scipy.stats import norm"
      ]
    },
    {
      "cell_type": "code",
      "source": [
        "# we need find z score\n",
        "z_score=(0.046-0.05)/(np.sqrt((0.05*(1-0.05))/2000))\n",
        "z_score"
      ],
      "metadata": {
        "colab": {
          "base_uri": "https://localhost:8080/"
        },
        "id": "9Y_pp93r8ZLR",
        "outputId": "764d9c65-f43c-4c4e-cc68-63446c8ca821"
      },
      "execution_count": 2,
      "outputs": [
        {
          "output_type": "execute_result",
          "data": {
            "text/plain": [
              "-0.820782681668124"
            ]
          },
          "metadata": {},
          "execution_count": 2
        }
      ]
    },
    {
      "cell_type": "code",
      "source": [
        "#for finding hypothesis p_value\n",
        "p_value=1-stats.norm.cdf(abs(z_score))\n",
        "p_value"
      ],
      "metadata": {
        "colab": {
          "base_uri": "https://localhost:8080/"
        },
        "id": "y3Bq9qsQ8ySn",
        "outputId": "2081d344-88d2-4aae-eec8-52b3de73a8b6"
      },
      "execution_count": 5,
      "outputs": [
        {
          "output_type": "execute_result",
          "data": {
            "text/plain": [
              "0.20588503245107104"
            ]
          },
          "metadata": {},
          "execution_count": 5
        }
      ]
    },
    {
      "cell_type": "code",
      "source": [],
      "metadata": {
        "id": "KKs-A7UV_3xo"
      },
      "execution_count": null,
      "outputs": []
    }
  ]
}